{
  "nbformat": 4,
  "nbformat_minor": 0,
  "metadata": {
    "colab": {
      "provenance": [],
      "authorship_tag": "ABX9TyNWbUKnRvsrKQHNpspW7qJL",
      "include_colab_link": true
    },
    "kernelspec": {
      "name": "python3",
      "display_name": "Python 3"
    },
    "language_info": {
      "name": "python"
    }
  },
  "cells": [
    {
      "cell_type": "markdown",
      "metadata": {
        "id": "view-in-github",
        "colab_type": "text"
      },
      "source": [
        "<a href=\"https://colab.research.google.com/github/LuisAciole/Aula-02/blob/main/Aula_6_de_Setembro.ipynb\" target=\"_parent\"><img src=\"https://colab.research.google.com/assets/colab-badge.svg\" alt=\"Open In Colab\"/></a>"
      ]
    },
    {
      "cell_type": "markdown",
      "source": [
        "OBSERVAÇÕES SOBRE ESTRUTURAS CONDICIONAIS"
      ],
      "metadata": {
        "id": "8bvxmQpMhUjs"
      }
    },
    {
      "cell_type": "code",
      "execution_count": 52,
      "metadata": {
        "colab": {
          "base_uri": "https://localhost:8080/"
        },
        "id": "JlHMdKMnhH1d",
        "outputId": "00c0db2c-078d-48d1-87bc-21cd95b339c7"
      },
      "outputs": [
        {
          "output_type": "stream",
          "name": "stdout",
          "text": [
            "Digite o comprimento da camiseta em cm: 66\n",
            "Digite a largura da camiseta em cm: 50\n",
            "A camiseta é do tamanho PP\n"
          ]
        }
      ],
      "source": [
        "comprimento_camiseta = float(input(\"Digite o comprimento da camiseta em cm: \"))\n",
        "largura = float(input(\"Digite a largura da camiseta em cm: \"))\n",
        "\n",
        "if comprimento_camiseta == 66 and largura == 50:\n",
        "    print('A camiseta é do tamanho PP')\n",
        "elif comprimento_camiseta == 66 and largura == 54:\n",
        "    print('A camiseta é do tamanho P')\n",
        "elif comprimento_camiseta == 66 and largura == 58:\n",
        "    print('A camiseta é do tamanho M')\n",
        "elif comprimento_camiseta == 70 and largura == 54:\n",
        "    print('A camiseta é do tamanho G')\n",
        "elif comprimento_camiseta == 70 and largura == 58:\n",
        "    print('A camiseta é do tamanho GG')\n",
        "elif comprimento_camiseta == 74 and largura == 58:\n",
        "    print('A camiseta é do tamanho XG')\n"
      ]
    },
    {
      "cell_type": "markdown",
      "source": [
        "**Inicio:**\n",
        "Inteiro comprimeto_camiseta , largura\n",
        "**Ler** comprimento_camiseta , largura\n",
        "**Se** comprimento_camiseta == 66 e largura == 50\n",
        "**Exibir** A camiseta é do tamanho PP\n",
        "**Senão se** comprimento_camiseta == 66 e largura == 54\n",
        "**Exibir** A camiseta é do tamanho P\n",
        "**Senão se** comprimento_camiseta == 66 e largura == 58\n",
        "**Exibir** A camiseta é do tamanho M\n",
        "**Senão se** comprimento_camiseta == 70 e largura == 54\n",
        "**Exibir** A camiseta é do tamanho G\n",
        "**Senão se** comprimento_camiseta == 70 e largura == 58\n",
        "**Exibir** A camiseta é do tamanho GG\n",
        "**Senão se** comprimento_camiseta == 74 e largura == 58\n",
        "**Exibir** A camiseta é do tamanho XG\n",
        "**FIM**\n",
        "\n"
      ],
      "metadata": {
        "id": "yivYftHevzxv"
      }
    },
    {
      "cell_type": "markdown",
      "source": [],
      "metadata": {
        "id": "CZaxULlzxjYF"
      }
    }
  ]
}